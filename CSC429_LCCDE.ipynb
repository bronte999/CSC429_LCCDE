{
  "nbformat": 4,
  "nbformat_minor": 0,
  "metadata": {
    "colab": {
      "provenance": [],
      "authorship_tag": "ABX9TyOSKLyy+DNiXJNSXdOQSBuL",
      "include_colab_link": true
    },
    "kernelspec": {
      "name": "python3",
      "display_name": "Python 3"
    },
    "language_info": {
      "name": "python"
    }
  },
  "cells": [
    {
      "cell_type": "markdown",
      "metadata": {
        "id": "view-in-github",
        "colab_type": "text"
      },
      "source": [
        "<a href=\"https://colab.research.google.com/github/bronte999/CSC429_LCCDE/blob/main/CSC429_LCCDE.ipynb\" target=\"_parent\"><img src=\"https://colab.research.google.com/assets/colab-badge.svg\" alt=\"Open In Colab\"/></a>"
      ]
    },
    {
      "cell_type": "markdown",
      "source": [
        "This is the code adapted from the paper entitled \"LCCDE: A Decision-Based Ensemble Framework for Intrusion Detection in The Internet of Vehicles\" accepted in 2022 IEEE Global Communications Conference (GLOBECOM).\n",
        "Authors: Li Yang (lyang339@uwo.ca), Abdallah Shami (Abdallah.Shami@uwo.ca), Gary Stevens, and Stephen de Rusett\n",
        "Organization: The Optimized Computing and Communications (OC2) Lab, ECE Department, Western University, Ontario, Canada; S2E Technologies, St. Jacobs, Ontario, Canada\n",
        "\n",
        "L. Yang, A. Shami, G. Stevens, and S. DeRusett, “LCCDE: A Decision-Based Ensemble Framework for Intrusion Detection in The Internet of Vehicles,\" in 2022 IEEE Global Communications Conference (GLOBECOM), 2022, pp. 1-6."
      ],
      "metadata": {
        "id": "kJP6_Oj1CsZR"
      }
    },
    {
      "cell_type": "code",
      "source": [
        "!pip install catboost\n",
        "!pip install river"
      ],
      "metadata": {
        "colab": {
          "base_uri": "https://localhost:8080/"
        },
        "id": "Dx4Ho29bAc8g",
        "outputId": "136b8ce6-4e4d-4e1a-fb0b-6dff0b75ab78"
      },
      "execution_count": null,
      "outputs": [
        {
          "output_type": "stream",
          "name": "stdout",
          "text": [
            "Requirement already satisfied: catboost in /usr/local/lib/python3.10/dist-packages (1.2.5)\n",
            "Requirement already satisfied: graphviz in /usr/local/lib/python3.10/dist-packages (from catboost) (0.20.3)\n",
            "Requirement already satisfied: matplotlib in /usr/local/lib/python3.10/dist-packages (from catboost) (3.7.1)\n",
            "Requirement already satisfied: numpy>=1.16.0 in /usr/local/lib/python3.10/dist-packages (from catboost) (1.25.2)\n",
            "Requirement already satisfied: pandas>=0.24 in /usr/local/lib/python3.10/dist-packages (from catboost) (2.0.3)\n",
            "Requirement already satisfied: scipy in /usr/local/lib/python3.10/dist-packages (from catboost) (1.11.4)\n",
            "Requirement already satisfied: plotly in /usr/local/lib/python3.10/dist-packages (from catboost) (5.15.0)\n",
            "Requirement already satisfied: six in /usr/local/lib/python3.10/dist-packages (from catboost) (1.16.0)\n",
            "Requirement already satisfied: python-dateutil>=2.8.2 in /usr/local/lib/python3.10/dist-packages (from pandas>=0.24->catboost) (2.8.2)\n",
            "Requirement already satisfied: pytz>=2020.1 in /usr/local/lib/python3.10/dist-packages (from pandas>=0.24->catboost) (2023.4)\n",
            "Requirement already satisfied: tzdata>=2022.1 in /usr/local/lib/python3.10/dist-packages (from pandas>=0.24->catboost) (2024.1)\n",
            "Requirement already satisfied: contourpy>=1.0.1 in /usr/local/lib/python3.10/dist-packages (from matplotlib->catboost) (1.2.1)\n",
            "Requirement already satisfied: cycler>=0.10 in /usr/local/lib/python3.10/dist-packages (from matplotlib->catboost) (0.12.1)\n",
            "Requirement already satisfied: fonttools>=4.22.0 in /usr/local/lib/python3.10/dist-packages (from matplotlib->catboost) (4.51.0)\n",
            "Requirement already satisfied: kiwisolver>=1.0.1 in /usr/local/lib/python3.10/dist-packages (from matplotlib->catboost) (1.4.5)\n",
            "Requirement already satisfied: packaging>=20.0 in /usr/local/lib/python3.10/dist-packages (from matplotlib->catboost) (24.0)\n",
            "Requirement already satisfied: pillow>=6.2.0 in /usr/local/lib/python3.10/dist-packages (from matplotlib->catboost) (9.4.0)\n",
            "Requirement already satisfied: pyparsing>=2.3.1 in /usr/local/lib/python3.10/dist-packages (from matplotlib->catboost) (3.1.2)\n",
            "Requirement already satisfied: tenacity>=6.2.0 in /usr/local/lib/python3.10/dist-packages (from plotly->catboost) (8.3.0)\n",
            "Collecting river\n",
            "  Downloading river-0.21.1-cp310-cp310-manylinux_2_17_x86_64.manylinux2014_x86_64.whl (3.1 MB)\n",
            "\u001b[2K     \u001b[90m━━━━━━━━━━━━━━━━━━━━━━━━━━━━━━━━━━━━━━━━\u001b[0m \u001b[32m3.1/3.1 MB\u001b[0m \u001b[31m23.2 MB/s\u001b[0m eta \u001b[36m0:00:00\u001b[0m\n",
            "\u001b[?25hRequirement already satisfied: numpy<2.0.0,>=1.23.0 in /usr/local/lib/python3.10/dist-packages (from river) (1.25.2)\n",
            "Collecting pandas<3.0,>=2.1 (from river)\n",
            "  Downloading pandas-2.2.2-cp310-cp310-manylinux_2_17_x86_64.manylinux2014_x86_64.whl (13.0 MB)\n",
            "\u001b[2K     \u001b[90m━━━━━━━━━━━━━━━━━━━━━━━━━━━━━━━━━━━━━━━━\u001b[0m \u001b[32m13.0/13.0 MB\u001b[0m \u001b[31m74.7 MB/s\u001b[0m eta \u001b[36m0:00:00\u001b[0m\n",
            "\u001b[?25hCollecting polars<0.21.0,>=0.20.8 (from river)\n",
            "\u001b[33m  WARNING: Retrying (Retry(total=4, connect=None, read=None, redirect=None, status=None)) after connection broken by 'ReadTimeoutError(\"HTTPSConnectionPool(host='files.pythonhosted.org', port=443): Read timed out. (read timeout=15)\")': /packages/b8/ca/5280387f8aa6e62618e47882d3836324e2584611e1cea86ddf3ab4aa7f5c/polars-0.20.26-cp38-abi3-manylinux_2_17_x86_64.manylinux2014_x86_64.whl\u001b[0m\u001b[33m\n",
            "\u001b[0m  Downloading polars-0.20.26-cp38-abi3-manylinux_2_17_x86_64.manylinux2014_x86_64.whl (28.0 MB)\n",
            "\u001b[2K     \u001b[90m━━━━━━━━━━━━━━━━━━━━━━━━━━━━━━━━━━━━━━━━\u001b[0m \u001b[32m28.0/28.0 MB\u001b[0m \u001b[31m49.1 MB/s\u001b[0m eta \u001b[36m0:00:00\u001b[0m\n",
            "\u001b[?25hRequirement already satisfied: scipy<2.0.0,>=1.8.1 in /usr/local/lib/python3.10/dist-packages (from river) (1.11.4)\n",
            "Requirement already satisfied: python-dateutil>=2.8.2 in /usr/local/lib/python3.10/dist-packages (from pandas<3.0,>=2.1->river) (2.8.2)\n",
            "Requirement already satisfied: pytz>=2020.1 in /usr/local/lib/python3.10/dist-packages (from pandas<3.0,>=2.1->river) (2023.4)\n",
            "Requirement already satisfied: tzdata>=2022.7 in /usr/local/lib/python3.10/dist-packages (from pandas<3.0,>=2.1->river) (2024.1)\n",
            "Requirement already satisfied: six>=1.5 in /usr/local/lib/python3.10/dist-packages (from python-dateutil>=2.8.2->pandas<3.0,>=2.1->river) (1.16.0)\n",
            "Installing collected packages: polars, pandas, river\n",
            "  Attempting uninstall: polars\n",
            "    Found existing installation: polars 0.20.2\n",
            "    Uninstalling polars-0.20.2:\n",
            "      Successfully uninstalled polars-0.20.2\n",
            "  Attempting uninstall: pandas\n",
            "    Found existing installation: pandas 2.0.3\n",
            "    Uninstalling pandas-2.0.3:\n",
            "      Successfully uninstalled pandas-2.0.3\n",
            "\u001b[31mERROR: pip's dependency resolver does not currently take into account all the packages that are installed. This behaviour is the source of the following dependency conflicts.\n",
            "cudf-cu12 24.4.1 requires pandas<2.2.2dev0,>=2.0, but you have pandas 2.2.2 which is incompatible.\n",
            "google-colab 1.0.0 requires pandas==2.0.3, but you have pandas 2.2.2 which is incompatible.\u001b[0m\u001b[31m\n",
            "\u001b[0mSuccessfully installed pandas-2.2.2 polars-0.20.26 river-0.21.1\n"
          ]
        }
      ]
    },
    {
      "cell_type": "code",
      "execution_count": null,
      "metadata": {
        "id": "CfeJWj9-ADw0"
      },
      "outputs": [],
      "source": [
        "import warnings\n",
        "warnings.filterwarnings(\"ignore\")"
      ]
    },
    {
      "cell_type": "code",
      "source": [
        "import pandas as pd\n",
        "import numpy as np\n",
        "import matplotlib.pyplot as plt\n",
        "import seaborn as sns\n",
        "from sklearn.model_selection import train_test_split\n",
        "from sklearn.metrics import classification_report,confusion_matrix,accuracy_score, precision_score, recall_score, f1_score\n",
        "import lightgbm as lgb\n",
        "import catboost as cbt\n",
        "import xgboost as xgb\n",
        "import time\n",
        "from river import stream\n",
        "from statistics import mode"
      ],
      "metadata": {
        "id": "2pR8ZX0YAHdb"
      },
      "execution_count": null,
      "outputs": []
    },
    {
      "cell_type": "code",
      "source": [
        "! unzip /content/Car_Hacking_Data-20240514T173928Z-001.zip -d data"
      ],
      "metadata": {
        "colab": {
          "base_uri": "https://localhost:8080/"
        },
        "id": "U1zh9AGNMtxL",
        "outputId": "f5e30bda-4339-45ec-94e2-ffd8738e1200"
      },
      "execution_count": null,
      "outputs": [
        {
          "output_type": "stream",
          "name": "stdout",
          "text": [
            "Archive:  /content/Car_Hacking_Data-20240514T173928Z-001.zip\n",
            "  inflating: Car_Hacking_Data/Normal_dataset.csv  \n",
            "  inflating: Car_Hacking_Data/DoS_dataset.csv  \n",
            "  inflating: Car_Hacking_Data/RPM_dataset.csv  \n",
            "  inflating: Car_Hacking_Data/gear_dataset.csv  \n",
            "  inflating: Car_Hacking_Data/Fuzzy_dataset.csv  \n"
          ]
        }
      ]
    },
    {
      "cell_type": "code",
      "source": [
        "df = pd.read_csv(\"/content/CICIDS2017_sample_km.csv\")"
      ],
      "metadata": {
        "id": "ZrUFJlOaAnkk"
      },
      "execution_count": null,
      "outputs": []
    },
    {
      "cell_type": "code",
      "source": [
        "df.Label.value_counts()"
      ],
      "metadata": {
        "colab": {
          "base_uri": "https://localhost:8080/"
        },
        "id": "YLNybtUHAKVV",
        "outputId": "0ab86b9d-5002-45e9-91b0-d2616b9b71d6"
      },
      "execution_count": null,
      "outputs": [
        {
          "output_type": "execute_result",
          "data": {
            "text/plain": [
              "Label\n",
              "0    18225\n",
              "3     3042\n",
              "6     2180\n",
              "1     1966\n",
              "5     1255\n",
              "2       96\n",
              "4       36\n",
              "Name: count, dtype: int64"
            ]
          },
          "metadata": {},
          "execution_count": 7
        }
      ]
    },
    {
      "cell_type": "code",
      "source": [
        "X = df.drop(['Label'],axis=1)\n",
        "y = df['Label']\n",
        "X_train, X_test, y_train, y_test = train_test_split(X,y, train_size = 0.8, test_size = 0.2, random_state = 0) #shuffle=False"
      ],
      "metadata": {
        "id": "tbsXMLzpAs9b"
      },
      "execution_count": null,
      "outputs": []
    },
    {
      "cell_type": "code",
      "source": [
        "pd.Series(y_train).value_counts()"
      ],
      "metadata": {
        "colab": {
          "base_uri": "https://localhost:8080/"
        },
        "id": "Jy14BoWvAvUs",
        "outputId": "e30c1b40-e7af-4c2a-e7ad-eb0d3d60d219"
      },
      "execution_count": null,
      "outputs": [
        {
          "output_type": "execute_result",
          "data": {
            "text/plain": [
              "Label\n",
              "0    14569\n",
              "3     2430\n",
              "6     1728\n",
              "1     1579\n",
              "5     1024\n",
              "2       82\n",
              "4       28\n",
              "Name: count, dtype: int64"
            ]
          },
          "metadata": {},
          "execution_count": 9
        }
      ]
    },
    {
      "cell_type": "code",
      "source": [
        "from imblearn.over_sampling import SMOTE\n",
        "smote=SMOTE(n_jobs=-1,sampling_strategy={2:1000,4:1000})"
      ],
      "metadata": {
        "id": "QqlK0JB7Awww"
      },
      "execution_count": null,
      "outputs": []
    },
    {
      "cell_type": "code",
      "source": [
        "X_train, y_train = smote.fit_resample(X_train, y_train)"
      ],
      "metadata": {
        "id": "TLiy3-9kA60W"
      },
      "execution_count": null,
      "outputs": []
    },
    {
      "cell_type": "code",
      "source": [
        "pd.Series(y_train).value_counts()"
      ],
      "metadata": {
        "colab": {
          "base_uri": "https://localhost:8080/"
        },
        "id": "8iS-tdioA92n",
        "outputId": "05e52680-b89c-421a-a9ec-f9e4d70c1d47"
      },
      "execution_count": null,
      "outputs": [
        {
          "output_type": "execute_result",
          "data": {
            "text/plain": [
              "Label\n",
              "0    14569\n",
              "3     2430\n",
              "6     1728\n",
              "1     1579\n",
              "5     1024\n",
              "2     1000\n",
              "4     1000\n",
              "Name: count, dtype: int64"
            ]
          },
          "metadata": {},
          "execution_count": 12
        }
      ]
    },
    {
      "cell_type": "code",
      "source": [
        "%%time\n",
        "# Train the LightGBM algorithm\n",
        "import lightgbm as lgb\n",
        "lg = lgb.LGBMClassifier()\n",
        "lg.fit(X_train, y_train)\n",
        "y_pred = lg.predict(X_test)\n",
        "print(classification_report(y_test,y_pred))\n",
        "print(\"Accuracy of LightGBM: \"+ str(accuracy_score(y_test, y_pred)))\n",
        "print(\"Precision of LightGBM: \"+ str(precision_score(y_test, y_pred, average='weighted')))\n",
        "print(\"Recall of LightGBM: \"+ str(recall_score(y_test, y_pred, average='weighted')))\n",
        "print(\"Average F1 of LightGBM: \"+ str(f1_score(y_test, y_pred, average='weighted')))\n",
        "print(\"F1 of LightGBM for each type of attack: \"+ str(f1_score(y_test, y_pred, average=None)))\n",
        "lg_f1=f1_score(y_test, y_pred, average=None)\n",
        "\n",
        "# Plot the confusion matrix\n",
        "cm=confusion_matrix(y_test,y_pred)\n",
        "f,ax=plt.subplots(figsize=(5,5))\n",
        "sns.heatmap(cm,annot=True,linewidth=0.5,linecolor=\"red\",fmt=\".0f\",ax=ax)\n",
        "plt.xlabel(\"y_pred\")\n",
        "plt.ylabel(\"y_true\")\n",
        "plt.show()"
      ],
      "metadata": {
        "colab": {
          "base_uri": "https://localhost:8080/",
          "height": 1000
        },
        "id": "17QSeMDFA_wk",
        "outputId": "1a060925-8888-4e65-d04a-dfe3f38419dc"
      },
      "execution_count": null,
      "outputs": [
        {
          "output_type": "stream",
          "name": "stdout",
          "text": [
            "[LightGBM] [Warning] Found whitespace in feature_names, replace with underlines\n",
            "[LightGBM] [Info] Auto-choosing row-wise multi-threading, the overhead of testing was 0.024560 seconds.\n",
            "You can set `force_row_wise=true` to remove the overhead.\n",
            "And if memory is not enough, you can set `force_col_wise=true`.\n",
            "[LightGBM] [Info] Total Bins 14099\n",
            "[LightGBM] [Info] Number of data points in the train set: 23330, number of used features: 63\n",
            "[LightGBM] [Info] Start training from score -0.470844\n",
            "[LightGBM] [Info] Start training from score -2.692948\n",
            "[LightGBM] [Info] Start training from score -3.149740\n",
            "[LightGBM] [Info] Start training from score -2.261849\n",
            "[LightGBM] [Info] Start training from score -3.149740\n",
            "[LightGBM] [Info] Start training from score -3.126024\n",
            "[LightGBM] [Info] Start training from score -2.602775\n",
            "[LightGBM] [Warning] No further splits with positive gain, best gain: -inf\n",
            "[LightGBM] [Warning] No further splits with positive gain, best gain: -inf\n",
            "[LightGBM] [Warning] No further splits with positive gain, best gain: -inf\n",
            "[LightGBM] [Warning] No further splits with positive gain, best gain: -inf\n",
            "[LightGBM] [Warning] No further splits with positive gain, best gain: -inf\n",
            "[LightGBM] [Warning] No further splits with positive gain, best gain: -inf\n",
            "[LightGBM] [Warning] No further splits with positive gain, best gain: -inf\n",
            "[LightGBM] [Warning] No further splits with positive gain, best gain: -inf\n",
            "[LightGBM] [Warning] No further splits with positive gain, best gain: -inf\n",
            "[LightGBM] [Warning] No further splits with positive gain, best gain: -inf\n",
            "[LightGBM] [Warning] No further splits with positive gain, best gain: -inf\n",
            "[LightGBM] [Warning] No further splits with positive gain, best gain: -inf\n",
            "[LightGBM] [Warning] No further splits with positive gain, best gain: -inf\n",
            "[LightGBM] [Warning] No further splits with positive gain, best gain: -inf\n",
            "[LightGBM] [Warning] No further splits with positive gain, best gain: -inf\n",
            "[LightGBM] [Warning] No further splits with positive gain, best gain: -inf\n",
            "[LightGBM] [Warning] No further splits with positive gain, best gain: -inf\n",
            "[LightGBM] [Warning] No further splits with positive gain, best gain: -inf\n",
            "[LightGBM] [Warning] No further splits with positive gain, best gain: -inf\n",
            "[LightGBM] [Warning] No further splits with positive gain, best gain: -inf\n",
            "[LightGBM] [Warning] No further splits with positive gain, best gain: -inf\n",
            "[LightGBM] [Warning] No further splits with positive gain, best gain: -inf\n",
            "[LightGBM] [Warning] No further splits with positive gain, best gain: -inf\n",
            "[LightGBM] [Warning] No further splits with positive gain, best gain: -inf\n",
            "[LightGBM] [Warning] No further splits with positive gain, best gain: -inf\n",
            "[LightGBM] [Warning] No further splits with positive gain, best gain: -inf\n",
            "[LightGBM] [Warning] No further splits with positive gain, best gain: -inf\n",
            "[LightGBM] [Warning] No further splits with positive gain, best gain: -inf\n",
            "[LightGBM] [Warning] No further splits with positive gain, best gain: -inf\n",
            "[LightGBM] [Warning] No further splits with positive gain, best gain: -inf\n",
            "[LightGBM] [Warning] No further splits with positive gain, best gain: -inf\n",
            "[LightGBM] [Warning] No further splits with positive gain, best gain: -inf\n",
            "[LightGBM] [Warning] No further splits with positive gain, best gain: -inf\n",
            "[LightGBM] [Warning] No further splits with positive gain, best gain: -inf\n",
            "              precision    recall  f1-score   support\n",
            "\n",
            "           0       1.00      1.00      1.00      3656\n",
            "           1       0.99      0.99      0.99       387\n",
            "           2       1.00      1.00      1.00        14\n",
            "           3       1.00      1.00      1.00       612\n",
            "           4       1.00      0.75      0.86         8\n",
            "           5       0.99      1.00      0.99       231\n",
            "           6       1.00      0.99      1.00       452\n",
            "\n",
            "    accuracy                           1.00      5360\n",
            "   macro avg       1.00      0.96      0.98      5360\n",
            "weighted avg       1.00      1.00      1.00      5360\n",
            "\n",
            "Accuracy of LightGBM: 0.9970149253731343\n",
            "Precision of LightGBM: 0.9970219373818284\n",
            "Recall of LightGBM: 0.9970149253731343\n",
            "Average F1 of LightGBM: 0.9969874477480669\n",
            "F1 of LightGBM for each type of attack: [0.99808691 0.99092088 1.         0.99754702 0.85714286 0.99354839\n",
            " 0.99667037]\n"
          ]
        },
        {
          "output_type": "display_data",
          "data": {
            "text/plain": [
              "<Figure size 500x500 with 2 Axes>"
            ],
            "image/png": "[encoded data removed]"
          },
          "metadata": {}
        },
        {
          "output_type": "stream",
          "name": "stdout",
          "text": [
            "CPU times: user 9.93 s, sys: 147 ms, total: 10.1 s\n",
            "Wall time: 13 s\n"
          ]
        }
      ]
    },
    {
      "cell_type": "code",
      "source": [
        "%%time\n",
        "# Train the XGBoost algorithm\n",
        "import xgboost as xgb\n",
        "xg = xgb.XGBClassifier()\n",
        "\n",
        "X_train_x = X_train.values\n",
        "X_test_x = X_test.values\n",
        "\n",
        "xg.fit(X_train_x, y_train)\n",
        "\n",
        "y_pred = xg.predict(X_test_x)\n",
        "print(classification_report(y_test,y_pred))\n",
        "print(\"Accuracy of XGBoost: \"+ str(accuracy_score(y_test, y_pred)))\n",
        "print(\"Precision of XGBoost: \"+ str(precision_score(y_test, y_pred, average='weighted')))\n",
        "print(\"Recall of XGBoost: \"+ str(recall_score(y_test, y_pred, average='weighted')))\n",
        "print(\"Average F1 of XGBoost: \"+ str(f1_score(y_test, y_pred, average='weighted')))\n",
        "print(\"F1 of XGBoost for each type of attack: \"+ str(f1_score(y_test, y_pred, average=None)))\n",
        "xg_f1=f1_score(y_test, y_pred, average=None)\n",
        "\n",
        "# Plot the confusion matrix\n",
        "cm=confusion_matrix(y_test,y_pred)\n",
        "f,ax=plt.subplots(figsize=(5,5))\n",
        "sns.heatmap(cm,annot=True,linewidth=0.5,linecolor=\"red\",fmt=\".0f\",ax=ax)\n",
        "plt.xlabel(\"y_pred\")\n",
        "plt.ylabel(\"y_true\")\n",
        "plt.show()"
      ],
      "metadata": {
        "colab": {
          "base_uri": "https://localhost:8080/",
          "height": 847
        },
        "id": "pCQ_NKAgBGdl",
        "outputId": "3d073989-4b2a-434e-cf34-6ae1d76f612e"
      },
      "execution_count": null,
      "outputs": [
        {
          "output_type": "stream",
          "name": "stdout",
          "text": [
            "              precision    recall  f1-score   support\n",
            "\n",
            "           0       1.00      1.00      1.00      3656\n",
            "           1       0.99      0.99      0.99       387\n",
            "           2       1.00      1.00      1.00        14\n",
            "           3       1.00      1.00      1.00       612\n",
            "           4       1.00      0.75      0.86         8\n",
            "           5       0.99      1.00      0.99       231\n",
            "           6       1.00      1.00      1.00       452\n",
            "\n",
            "    accuracy                           1.00      5360\n",
            "   macro avg       1.00      0.96      0.98      5360\n",
            "weighted avg       1.00      1.00      1.00      5360\n",
            "\n",
            "Accuracy of XGBoost: 0.9973880597014926\n",
            "Precision of XGBoost: 0.9973936541166687\n",
            "Recall of XGBoost: 0.9973880597014926\n",
            "Average F1 of XGBoost: 0.9973619285604267\n",
            "F1 of XGBoost for each type of attack: [0.99822234 0.99222798 1.         1.         0.85714286 0.99354839\n",
            " 0.99557522]\n"
          ]
        },
        {
          "output_type": "display_data",
          "data": {
            "text/plain": [
              "<Figure size 500x500 with 2 Axes>"
            ],
            "image/png": "[encoded data removed]"
          },
          "metadata": {}
        },
        {
          "output_type": "stream",
          "name": "stdout",
          "text": [
            "CPU times: user 28.4 s, sys: 175 ms, total: 28.6 s\n",
            "Wall time: 34.8 s\n"
          ]
        }
      ]
    },
    {
      "cell_type": "code",
      "source": [
        "%%time\n",
        "# Train the CatBoost algorithm\n",
        "import catboost as cbt\n",
        "cb = cbt.CatBoostClassifier(verbose=0,boosting_type='Plain')\n",
        "#cb = cbt.CatBoostClassifier()\n",
        "\n",
        "cb.fit(X_train, y_train)\n",
        "y_pred = cb.predict(X_test)\n",
        "print(classification_report(y_test,y_pred))\n",
        "print(\"Accuracy of CatBoost: \"+ str(accuracy_score(y_test, y_pred)))\n",
        "print(\"Precision of CatBoost: \"+ str(precision_score(y_test, y_pred, average='weighted')))\n",
        "print(\"Recall of CatBoost: \"+ str(recall_score(y_test, y_pred, average='weighted')))\n",
        "print(\"Average F1 of CatBoost: \"+ str(f1_score(y_test, y_pred, average='weighted')))\n",
        "print(\"F1 of CatBoost for each type of attack: \"+ str(f1_score(y_test, y_pred, average=None)))\n",
        "cb_f1=f1_score(y_test, y_pred, average=None)\n",
        "\n",
        "# Plot the confusion matrix\n",
        "cm=confusion_matrix(y_test,y_pred)\n",
        "f,ax=plt.subplots(figsize=(5,5))\n",
        "sns.heatmap(cm,annot=True,linewidth=0.5,linecolor=\"red\",fmt=\".0f\",ax=ax)\n",
        "plt.xlabel(\"y_pred\")\n",
        "plt.ylabel(\"y_true\")\n",
        "plt.show()"
      ],
      "metadata": {
        "colab": {
          "base_uri": "https://localhost:8080/",
          "height": 847
        },
        "id": "JRfyavRrBIgc",
        "outputId": "db845105-5c4d-4167-b408-1f1a4607501e"
      },
      "execution_count": null,
      "outputs": [
        {
          "output_type": "stream",
          "name": "stdout",
          "text": [
            "              precision    recall  f1-score   support\n",
            "\n",
            "           0       1.00      1.00      1.00      3656\n",
            "           1       0.99      0.99      0.99       387\n",
            "           2       1.00      1.00      1.00        14\n",
            "           3       0.99      1.00      1.00       612\n",
            "           4       1.00      0.62      0.77         8\n",
            "           5       0.99      1.00      0.99       231\n",
            "           6       1.00      0.99      0.99       452\n",
            "\n",
            "    accuracy                           1.00      5360\n",
            "   macro avg       1.00      0.94      0.96      5360\n",
            "weighted avg       1.00      1.00      1.00      5360\n",
            "\n",
            "Accuracy of CatBoost: 0.9958955223880597\n",
            "Precision of CatBoost: 0.9959011138813715\n",
            "Recall of CatBoost: 0.9958955223880597\n",
            "Average F1 of CatBoost: 0.9958320064775041\n",
            "F1 of CatBoost for each type of attack: [0.99726552 0.99222798 1.         0.99510604 0.76923077 0.99137931\n",
            " 0.9944629 ]\n"
          ]
        },
        {
          "output_type": "display_data",
          "data": {
            "text/plain": [
              "<Figure size 500x500 with 2 Axes>"
            ],
            "image/png": "[encoded data removed]"
          },
          "metadata": {}
        },
        {
          "output_type": "stream",
          "name": "stdout",
          "text": [
            "CPU times: user 3min 33s, sys: 1.99 s, total: 3min 35s\n",
            "Wall time: 2min 10s\n"
          ]
        }
      ]
    },
    {
      "cell_type": "code",
      "source": [
        "# Leading model list for each class\n",
        "model=[]\n",
        "for i in range(len(lg_f1)):\n",
        "    if max(lg_f1[i],xg_f1[i],cb_f1[i]) == lg_f1[i]:\n",
        "        model.append(lg)\n",
        "    elif max(lg_f1[i],xg_f1[i],cb_f1[i]) == xg_f1[i]:\n",
        "        model.append(xg)\n",
        "    else:\n",
        "        model.append(cb)"
      ],
      "metadata": {
        "id": "ipru6NBXCgXG"
      },
      "execution_count": null,
      "outputs": []
    },
    {
      "cell_type": "code",
      "source": [
        "model"
      ],
      "metadata": {
        "colab": {
          "base_uri": "https://localhost:8080/"
        },
        "id": "R94t3XUVCiTf",
        "outputId": "fb88a621-254e-4d7d-8830-6f41b0acd8f7"
      },
      "execution_count": null,
      "outputs": [
        {
          "output_type": "execute_result",
          "data": {
            "text/plain": [
              "[XGBClassifier(base_score=None, booster=None, callbacks=None,\n",
              "               colsample_bylevel=None, colsample_bynode=None,\n",
              "               colsample_bytree=None, device=None, early_stopping_rounds=None,\n",
              "               enable_categorical=False, eval_metric=None, feature_types=None,\n",
              "               gamma=None, grow_policy=None, importance_type=None,\n",
              "               interaction_constraints=None, learning_rate=None, max_bin=None,\n",
              "               max_cat_threshold=None, max_cat_to_onehot=None,\n",
              "               max_delta_step=None, max_depth=None, max_leaves=None,\n",
              "               min_child_weight=None, missing=nan, monotone_constraints=None,\n",
              "               multi_strategy=None, n_estimators=None, n_jobs=None,\n",
              "               num_parallel_tree=None, objective='multi:softprob', ...),\n",
              " XGBClassifier(base_score=None, booster=None, callbacks=None,\n",
              "               colsample_bylevel=None, colsample_bynode=None,\n",
              "               colsample_bytree=None, device=None, early_stopping_rounds=None,\n",
              "               enable_categorical=False, eval_metric=None, feature_types=None,\n",
              "               gamma=None, grow_policy=None, importance_type=None,\n",
              "               interaction_constraints=None, learning_rate=None, max_bin=None,\n",
              "               max_cat_threshold=None, max_cat_to_onehot=None,\n",
              "               max_delta_step=None, max_depth=None, max_leaves=None,\n",
              "               min_child_weight=None, missing=nan, monotone_constraints=None,\n",
              "               multi_strategy=None, n_estimators=None, n_jobs=None,\n",
              "               num_parallel_tree=None, objective='multi:softprob', ...),\n",
              " LGBMClassifier(),\n",
              " XGBClassifier(base_score=None, booster=None, callbacks=None,\n",
              "               colsample_bylevel=None, colsample_bynode=None,\n",
              "               colsample_bytree=None, device=None, early_stopping_rounds=None,\n",
              "               enable_categorical=False, eval_metric=None, feature_types=None,\n",
              "               gamma=None, grow_policy=None, importance_type=None,\n",
              "               interaction_constraints=None, learning_rate=None, max_bin=None,\n",
              "               max_cat_threshold=None, max_cat_to_onehot=None,\n",
              "               max_delta_step=None, max_depth=None, max_leaves=None,\n",
              "               min_child_weight=None, missing=nan, monotone_constraints=None,\n",
              "               multi_strategy=None, n_estimators=None, n_jobs=None,\n",
              "               num_parallel_tree=None, objective='multi:softprob', ...),\n",
              " LGBMClassifier(),\n",
              " LGBMClassifier(),\n",
              " LGBMClassifier()]"
            ]
          },
          "metadata": {},
          "execution_count": 17
        }
      ]
    },
    {
      "cell_type": "code",
      "source": [
        "def LCCDE(X_test, y_test, m1, m2, m3):\n",
        "    i = 0\n",
        "    t = []\n",
        "    m = []\n",
        "    yt = []\n",
        "    yp = []\n",
        "    l = []\n",
        "    pred_l = []\n",
        "    pro_l = []\n",
        "\n",
        "    # For each class (normal or a type of attack), find the leader model\n",
        "    for xi, yi in stream.iter_pandas(X_test, y_test):\n",
        "\n",
        "        xi2=np.array(list(xi.values()))\n",
        "        y_pred1 = m1.predict(xi2.reshape(1, -1))      # model 1 (LightGBM) makes a prediction on text sample xi\n",
        "        y_pred1 = int(y_pred1[0])\n",
        "        y_pred2 = m2.predict(xi2.reshape(1, -1))      # model 2 (XGBoost) makes a prediction on text sample xi\n",
        "        y_pred2 = int(y_pred2[0])\n",
        "        y_pred3 = m3.predict(xi2.reshape(1, -1))      # model 3 (Catboost) makes a prediction on text sample xi\n",
        "        y_pred3 = int(y_pred3[0])\n",
        "\n",
        "        p1 = m1.predict_proba(xi2.reshape(1, -1))     # The prediction probability (confidence) list of model 1\n",
        "        p2 = m2.predict_proba(xi2.reshape(1, -1))     # The prediction probability (confidence) list of model 2\n",
        "        p3 = m3.predict_proba(xi2.reshape(1, -1))     # The prediction probability (confidence) list of model 3\n",
        "\n",
        "        # Find the highest prediction probability among all classes for each ML model\n",
        "        y_pred_p1 = np.max(p1)\n",
        "        y_pred_p2 = np.max(p2)\n",
        "        y_pred_p3 = np.max(p3)\n",
        "\n",
        "        if y_pred1 == y_pred2 == y_pred3: # If the predicted classes of all the three models are the same\n",
        "            y_pred = y_pred1 # Use this predicted class as the final predicted class\n",
        "\n",
        "        elif y_pred1 != y_pred2 != y_pred3: # If the predicted classes of all the three models are different\n",
        "            # For each prediction model, check if the predicted class’s original ML model is the same as its leader model\n",
        "            if model[y_pred1]==m1: # If they are the same and the leading model is model 1 (LightGBM)\n",
        "                l.append(m1)\n",
        "                pred_l.append(y_pred1) # Save the predicted class\n",
        "                pro_l.append(y_pred_p1) # Save the confidence\n",
        "\n",
        "            if model[y_pred2]==m2: # If they are the same and the leading model is model 2 (XGBoost)\n",
        "                l.append(m2)\n",
        "                pred_l.append(y_pred2)\n",
        "                pro_l.append(y_pred_p2)\n",
        "\n",
        "            if model[y_pred3]==m3: # If they are the same and the leading model is model 3 (CatBoost)\n",
        "                l.append(m3)\n",
        "                pred_l.append(y_pred3)\n",
        "                pro_l.append(y_pred_p3)\n",
        "\n",
        "            if len(l)==0: # Avoid empty probability list\n",
        "                pro_l=[y_pred_p1,y_pred_p2,y_pred_p3]\n",
        "\n",
        "            elif len(l)==1: # If only one pair of the original model and the leader model for each predicted class is the same\n",
        "                y_pred=pred_l[0] # Use the predicted class of the leader model as the final prediction class\n",
        "\n",
        "            else: # If no pair or multiple pairs of the original prediction model and the leader model for each predicted class are the same\n",
        "                max_p = max(pro_l) # Find the highest confidence\n",
        "\n",
        "                # Use the predicted class with the highest confidence as the final prediction class\n",
        "                if max_p == y_pred_p1:\n",
        "                    y_pred = y_pred1\n",
        "                elif max_p == y_pred_p2:\n",
        "                    y_pred = y_pred2\n",
        "                else:\n",
        "                    y_pred = y_pred3\n",
        "\n",
        "        else: # If two predicted classes are the same and the other one is different\n",
        "            n = mode([y_pred1,y_pred2,y_pred3]) # Find the predicted class with the majority vote\n",
        "            y_pred = model[n].predict(xi2.reshape(1, -1)) # Use the predicted class of the leader model as the final prediction class\n",
        "            y_pred = int(y_pred[0])\n",
        "\n",
        "        yt.append(yi)\n",
        "        yp.append(y_pred) # Save the predicted classes for all tested samples\n",
        "    return yt, yp"
      ],
      "metadata": {
        "id": "_nK5M7RwCjwZ"
      },
      "execution_count": null,
      "outputs": []
    },
    {
      "cell_type": "code",
      "source": [
        "%%time\n",
        "# Implementing LCCDE\n",
        "yt, yp = LCCDE(X_test, y_test, m1 = lg, m2 = xg, m3 = cb)"
      ],
      "metadata": {
        "colab": {
          "base_uri": "https://localhost:8080/"
        },
        "id": "IkhCg1KiCuNO",
        "outputId": "aada83dc-ebe2-4523-8968-a2a2e3a70f6f"
      },
      "execution_count": null,
      "outputs": [
        {
          "output_type": "stream",
          "name": "stdout",
          "text": [
            "CPU times: user 1min 12s, sys: 1.76 s, total: 1min 13s\n",
            "Wall time: 49.5 s\n"
          ]
        }
      ]
    },
    {
      "cell_type": "code",
      "source": [
        "# The performance of the proposed lCCDE model\n",
        "print(\"Accuracy of LCCDE: \"+ str(accuracy_score(yt, yp)))\n",
        "print(\"Precision of LCCDE: \"+ str(precision_score(yt, yp, average='weighted')))\n",
        "print(\"Recall of LCCDE: \"+ str(recall_score(yt, yp, average='weighted')))\n",
        "print(\"Average F1 of LCCDE: \"+ str(f1_score(yt, yp, average='weighted')))\n",
        "print(\"F1 of LCCDE for each type of attack: \"+ str(f1_score(yt, yp, average=None)))"
      ],
      "metadata": {
        "colab": {
          "base_uri": "https://localhost:8080/"
        },
        "id": "92nbbXgbEIgC",
        "outputId": "7d6dde32-3897-4ecf-9117-06a67fc4bf47"
      },
      "execution_count": null,
      "outputs": [
        {
          "output_type": "stream",
          "name": "stdout",
          "text": [
            "Accuracy of LCCDE: 0.9972014925373134\n",
            "Precision of LCCDE: 0.9972089697276515\n",
            "Recall of LCCDE: 0.9972014925373134\n",
            "Average F1 of LCCDE: 0.9971743776749659\n",
            "F1 of LCCDE for each type of attack: [0.99835976 0.99222798 1.         0.99755102 0.85714286 0.99354839\n",
            " 0.99555556]\n"
          ]
        }
      ]
    },
    {
      "cell_type": "code",
      "source": [
        "# Comparison: The F1-scores for each base model\n",
        "print(\"F1 of LightGBM for each type of attack: \"+ str(lg_f1))\n",
        "print(\"F1 of XGBoost for each type of attack: \"+ str(xg_f1))\n",
        "print(\"F1 of CatBoost for each type of attack: \"+ str(cb_f1))\n"
      ],
      "metadata": {
        "colab": {
          "base_uri": "https://localhost:8080/"
        },
        "id": "zVgXZZJzEKJR",
        "outputId": "136c44f1-47dd-4a31-c499-f39ead6c3c5e"
      },
      "execution_count": null,
      "outputs": [
        {
          "output_type": "stream",
          "name": "stdout",
          "text": [
            "F1 of LightGBM for each type of attack: [0.99808691 0.99092088 1.         0.99754702 0.85714286 0.99354839\n",
            " 0.99667037]\n",
            "F1 of XGBoost for each type of attack: [0.99822234 0.99222798 1.         1.         0.85714286 0.99354839\n",
            " 0.99557522]\n",
            "F1 of CatBoost for each type of attack: [0.99726552 0.99222798 1.         0.99510604 0.76923077 0.99137931\n",
            " 0.9944629 ]\n"
          ]
        }
      ]
    }
  ]
}